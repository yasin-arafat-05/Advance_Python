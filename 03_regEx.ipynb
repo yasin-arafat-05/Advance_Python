{
 "cells": [
  {
   "cell_type": "markdown",
   "metadata": {},
   "source": [
    "<br>\n",
    "<br>\n",
    "\n",
    "## `A regular Expression is a special sequence of characters that uses a search pattern to find a strings or set of strings.`\n",
    "\n",
    "<br>\n",
    "<br>"
   ]
  },
  {
   "cell_type": "code",
   "execution_count": 2,
   "metadata": {},
   "outputs": [],
   "source": [
    "import re"
   ]
  },
  {
   "cell_type": "markdown",
   "metadata": {},
   "source": [
    "<br>\n",
    "<br>\n",
    "\n",
    "# Meta character in regEX:\n",
    "\n",
    "<br>\n",
    "<br>\n",
    "\n",
    "1. `.` : Matches any character except a newline.\n",
    "2. `^` : Matches the start of the string.\n",
    "3. `$` : Matches the end of the string or just before the newline at the end of the string.\n",
    "4. `*` : Matches 0 or more repetitions of the preceding regex.\n",
    "5. `+` : Matches 1 or more repetitions of the preceding regex.\n",
    "6. `?` : Matches 0 or 1 repetition of the preceding regex.\n",
    "7. `{}` : Matches exactly the specified number of repetitions.\n",
    "8. `[]` : Used to indicate a set of characters.\n",
    "9. `|` : Matches either the regex on the left or the regex on the right.\n",
    "10. `()` : Used for grouping and capturing.\n",
    "11. `\\` : Used to escape special characters or signals a special sequence.\n",
    "\n",
    "\n"
   ]
  },
  {
   "cell_type": "code",
   "execution_count": 58,
   "metadata": {},
   "outputs": [
    {
     "name": "stdout",
     "output_type": "stream",
     "text": [
      "r'.' : <re.Match object; span=(0, 1), match='a'>\n",
      "r'\\.' : <re.Match object; span=(6, 7), match='.'>\n",
      "<re.Match object; span=(2, 3), match='l'>\n"
     ]
    }
   ],
   "source": [
    "\n",
    "a = \"charlie chaplin coa and the chocolate factory\"\n",
    "b = \"ayushi.jain@gmail.com\"\n",
    "c = \"hello\"\n",
    "d = \"XYZ,YZ,XYZZ,XYYZ,XXZZY,ZYZ,\"\n",
    "\n",
    "# parameter(regEx,string)\n",
    "match = re.search(r\".\",b)\n",
    "print(\"r'.' : {}\".format(match))\n",
    "# it gives us a but we need to match '.' in this case we use `\\`\n",
    "# here span means starting and ending index.\n",
    "\n",
    "\n",
    "match = re.search(r\"\\.\",b)\n",
    "print(\"r'\\\\.' : {}\".format(match))\n",
    "\n",
    "\n",
    "match = re.search(r\"[l]\",c)\n",
    "print(match)"
   ]
  },
  {
   "cell_type": "markdown",
   "metadata": {},
   "source": [
    "<br>\n",
    "\n",
    "## use of `re.findall()`\n",
    "\n",
    "### 1. `[]` : Used to indicate a set of characters.\n",
    "\n",
    "<br>"
   ]
  },
  {
   "cell_type": "code",
   "execution_count": 25,
   "metadata": {},
   "outputs": [
    {
     "name": "stdout",
     "output_type": "stream",
     "text": [
      "['l', 'l']\n",
      "['a', 'a', 'a']\n"
     ]
    }
   ],
   "source": [
    "\n",
    "match = re.findall(r\"[l]\",c)\n",
    "print(match)\n",
    "\n",
    "match = re.findall(r\"[a]\",b)\n",
    "print(match)\n",
    "\n",
    "\n"
   ]
  },
  {
   "cell_type": "markdown",
   "metadata": {},
   "source": [
    "<br>\n",
    "<br>\n",
    "\n",
    "# 2. `^` : Matches the start of the string.\n",
    "\n",
    "<br>\n",
    "<br>"
   ]
  },
  {
   "cell_type": "code",
   "execution_count": 32,
   "metadata": {},
   "outputs": [
    {
     "name": "stdout",
     "output_type": "stream",
     "text": [
      "None\n",
      "None\n",
      "<re.Match object; span=(0, 1), match='a'>\n",
      "[]\n",
      "['a']\n"
     ]
    }
   ],
   "source": [
    "\n",
    "match = re.search(r\"^l\",c) # first word is not l\n",
    "print(match)\n",
    "\n",
    "match = re.search(r\"^l\",b) # first word is not l\n",
    "print(match)\n",
    "\n",
    "match = re.search(r\"^a\",b) # first word is not a\n",
    "print(match)\n",
    "\n",
    "match = re.findall(r\"^k\",b) # first word is not k\n",
    "print(match)\n",
    "\n",
    "match = re.findall(r\"^a\",b)\n",
    "print(match)\n",
    "\n",
    "\n"
   ]
  },
  {
   "cell_type": "markdown",
   "metadata": {},
   "source": [
    "<br>\n",
    "<br>\n",
    "\n",
    "\n",
    "# 3. `$` : Matches the end of the string or just before the newline at the end of the string.\n",
    "\n",
    "<br>\n",
    "<br>"
   ]
  },
  {
   "cell_type": "code",
   "execution_count": 36,
   "metadata": {},
   "outputs": [
    {
     "name": "stdout",
     "output_type": "stream",
     "text": [
      "<re.Match object; span=(18, 21), match='com'>\n",
      "<re.Match object; span=(3, 21), match='shi.jain@gmail.com'>\n",
      "None\n",
      "['com']\n",
      "['shi.jain@gmail.com']\n",
      "[]\n"
     ]
    }
   ],
   "source": [
    "match = re.search(r\"com$\",b)\n",
    "print(match)\n",
    "\n",
    "match = re.search(r\"shi.jain@gmail.com$\",b)\n",
    "print(match)\n",
    "\n",
    "match = re.search(r\"dkfshi.jain@gmail.com$\",b)\n",
    "print(match)\n",
    "\n",
    "match = re.findall(r\"com$\",b)\n",
    "print(match)\n",
    "\n",
    "match = re.findall(r\"shi.jain@gmail.com$\",b)\n",
    "print(match)\n",
    "\n",
    "match = re.findall(r\"dkfshi.jain@gmail.com$\",b)\n",
    "print(match)\n",
    "\n",
    "\n"
   ]
  },
  {
   "cell_type": "markdown",
   "metadata": {},
   "source": [
    "<br>\n",
    "<br>\n",
    "\n",
    "# 4. `.` : Matches any character except a newline.\n",
    "\n",
    "<br>\n",
    "<br>\n"
   ]
  },
  {
   "cell_type": "code",
   "execution_count": 44,
   "metadata": {},
   "outputs": [
    {
     "name": "stdout",
     "output_type": "stream",
     "text": [
      "<re.Match object; span=(0, 3), match='cha'>\n",
      "['cha', 'cha', 'coa']\n",
      "['chap']\n"
     ]
    }
   ],
   "source": [
    "# one dot\n",
    "match = re.search(r'c.a',a)\n",
    "print(match)\n",
    "\n",
    "match = re.findall(r'c.a',a)\n",
    "print(match)\n",
    "\n",
    "\n",
    "# two dot\n",
    "match = re.findall(r'c..p',a)\n",
    "print(match)\n"
   ]
  },
  {
   "cell_type": "markdown",
   "metadata": {},
   "source": [
    "<br>\n",
    "<br>\n",
    "\n",
    "# 5. `|` : Matches either the regex on the left or the regex on the right.\n",
    "\n",
    "<br>\n",
    "<br>\n"
   ]
  },
  {
   "cell_type": "code",
   "execution_count": 60,
   "metadata": {},
   "outputs": [
    {
     "name": "stdout",
     "output_type": "stream",
     "text": [
      "[' chap', ' coa ']\n",
      "['cha', 'cha', 'fac']\n",
      "['fac']\n"
     ]
    }
   ],
   "source": [
    "\n",
    "match = re.findall(r\" c.a | c..p\",a)\n",
    "print(match) \n",
    "\n",
    "match = re.findall(r\"cha|fac\",a)\n",
    "print(match) \n",
    "\n",
    "# match only the right side\n",
    "match = re.findall(r\"chomun|fac\",a)\n",
    "print(match) \n",
    "\n",
    "\n"
   ]
  },
  {
   "cell_type": "markdown",
   "metadata": {},
   "source": [
    "\n",
    "<br>\n",
    "<br>\n",
    "\n",
    "# 6. `?` : Matches 0 or 1 repetition of the preceding regex.\n",
    "\n",
    "<br>\n",
    "<br>"
   ]
  },
  {
   "cell_type": "code",
   "execution_count": 82,
   "metadata": {},
   "outputs": [
    {
     "name": "stdout",
     "output_type": "stream",
     "text": [
      "['cha', 'cha']\n",
      "['cha', 'cha']\n",
      "['cha', 'cha', 'cha']\n"
     ]
    }
   ],
   "source": [
    "match = re.findall(r\"cha?a\",a)\n",
    "print(match)\n",
    "\n",
    "match = re.findall(r\"cha?a\",a)\n",
    "print(match)\n",
    "\n",
    "\n",
    "m = \"cha chao chk cho cham chokk\"\n",
    "match = re.findall(r\"ch?a\",m)\n",
    "print(match)\n"
   ]
  },
  {
   "cell_type": "markdown",
   "metadata": {},
   "source": [
    "<br>\n",
    "<br>\n",
    "\n",
    "# 7. `*` : Matches 0 or more repetitions of the preceding regex.\n",
    "\n",
    "<br>\n",
    "<br>"
   ]
  },
  {
   "cell_type": "code",
   "execution_count": 81,
   "metadata": {},
   "outputs": [
    {
     "name": "stdout",
     "output_type": "stream",
     "text": [
      "['cha', 'cha', 'cha']\n"
     ]
    }
   ],
   "source": [
    "\n",
    "m = \"cha chao chk cho cham chokk\"\n",
    "match = re.findall(r\"ch*a\",m)\n",
    "print(match)\n"
   ]
  },
  {
   "cell_type": "markdown",
   "metadata": {},
   "source": [
    "<br>\n",
    "<br>\n",
    "\n",
    "# 8. `+` : Matches 1 or more repetitions of the preceding regex.\n",
    "\n",
    "<br>\n",
    "<br>"
   ]
  },
  {
   "cell_type": "code",
   "execution_count": 88,
   "metadata": {},
   "outputs": [
    {
     "name": "stdout",
     "output_type": "stream",
     "text": [
      "['XYZ', 'XYZ', 'XYYZ']\n",
      "['XYZ', 'XYZ', 'XYYZ', 'XYYYYYZ']\n"
     ]
    }
   ],
   "source": [
    "\n",
    "match = re.findall(r\"XY+Z\",d)\n",
    "print(match)\n",
    "\n",
    "m = \"XYZ,XYZ,XYYZ, XYYYYYK, XXXYYYYYZZZ\"\n",
    "match = re.findall(r\"XY+Z\",m)\n",
    "print(match)\n"
   ]
  },
  {
   "cell_type": "markdown",
   "metadata": {},
   "source": [
    "<br>\n",
    "<br>\n",
    "\n",
    "## 9. `{}` : Matches exactly the specified number of repetitions.\n",
    "<br>\n",
    "<br>"
   ]
  },
  {
   "cell_type": "code",
   "execution_count": 95,
   "metadata": {},
   "outputs": [
    {
     "name": "stdout",
     "output_type": "stream",
     "text": [
      "['aa', 'aaaaa', 'aaa', 'aaaaa']\n"
     ]
    }
   ],
   "source": [
    "\n",
    "#2B53K5,1 but our range (2 to 5)\n",
    "m = \"aaBbbbbbbbBBBBBaaaaaaaaKKaaaaaa\"\n",
    "match = re.findall(r\"a{2,5}\",m)\n",
    "print(match)\n"
   ]
  },
  {
   "cell_type": "markdown",
   "metadata": {},
   "source": [
    "<br>\n",
    "<br>\n",
    "\n",
    "# 10. `()` : Used for grouping and capturing.\n",
    "\n",
    "<br>\n",
    "<br>"
   ]
  },
  {
   "cell_type": "code",
   "execution_count": 99,
   "metadata": {},
   "outputs": [
    {
     "name": "stdout",
     "output_type": "stream",
     "text": [
      "['Y', 'Y', 'Y', 'Y', 'X', 'Y']\n"
     ]
    }
   ],
   "source": [
    "\n",
    "# d = \"XYZ,YZ,XYZZ,XYYZ,XXZZY,ZYZ,\"\n",
    "\n",
    "match = re.findall(r\"(X|Y)Z\",d)\n",
    "print(match)\n"
   ]
  },
  {
   "cell_type": "markdown",
   "metadata": {},
   "source": [
    "<br>\n",
    "<br>\n",
    "<br>\n",
    "\n",
    "# Special Sequences:\n",
    "\n",
    "| Character | Description                                                                                                        | Example       |\n",
    "|-----------|--------------------------------------------------------------------------------------------------------------------|---------------|\n",
    "| `\\A`      | Returns a match if the specified characters are at the beginning of the string                                      | `\\AThe`       |\n",
    "| `\\b`      | Returns a match where the specified characters are at the beginning or at the end of a word (use raw string `r\"\"`) | `r\"\\bain\"`    |\n",
    "|           |                                                                                                                    | `r\"ain\\b\"`    |\n",
    "| `\\B`      | Returns a match where the specified characters are present, but NOT at the beginning (or at the end) of a word     | `r\"\\Bain\"`    |\n",
    "|           |                                                                                                                    | `r\"ain\\B\"`    |\n",
    "| `\\d`      | Returns a match where the string contains digits (numbers from 0-9)                                                | `\\d`          |\n",
    "| `\\D`      | Returns a match where the string DOES NOT contain digits                                                           | `\\D`          |\n",
    "| `\\s`      | Returns a match where the string contains a white space character                                                  | `\\s`          |\n",
    "| `\\S`      | Returns a match where the string DOES NOT contain a white space character                                          | `\\S`          |\n",
    "| `\\w`      | Returns a match where the string contains any word characters (a to Z, digits 0-9, and the underscore `_` )        | `\\w`          |\n",
    "| `\\W`      | Returns a match where the string DOES NOT contain any word characters                                              | `\\W`          |\n",
    "| `\\Z`      | Returns a match if the specified characters are at the end of the string                                           | `Spain\\Z`     |\n",
    "\n",
    "<br>\n",
    "<br>\n",
    "<br>"
   ]
  },
  {
   "cell_type": "code",
   "execution_count": null,
   "metadata": {},
   "outputs": [],
   "source": []
  }
 ],
 "metadata": {
  "kernelspec": {
   "display_name": "Python 3",
   "language": "python",
   "name": "python3"
  },
  "language_info": {
   "codemirror_mode": {
    "name": "ipython",
    "version": 3
   },
   "file_extension": ".py",
   "mimetype": "text/x-python",
   "name": "python",
   "nbconvert_exporter": "python",
   "pygments_lexer": "ipython3",
   "version": "3.12.3"
  }
 },
 "nbformat": 4,
 "nbformat_minor": 2
}
