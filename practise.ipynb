{
 "cells": [
  {
   "cell_type": "code",
   "execution_count": 38,
   "metadata": {},
   "outputs": [],
   "source": [
    "import tensorflow as tf "
   ]
  },
  {
   "cell_type": "code",
   "execution_count": 39,
   "metadata": {},
   "outputs": [
    {
     "ename": "RecursionError",
     "evalue": "maximum recursion depth exceeded",
     "output_type": "error",
     "traceback": [
      "\u001b[0;31m---------------------------------------------------------------------------\u001b[0m",
      "\u001b[0;31mRecursionError\u001b[0m                            Traceback (most recent call last)",
      "\u001b[1;32m/home/yasin/allProgram/Advance_Python/practise.ipynb Cell 2\u001b[0m line \u001b[0;36m1\n\u001b[0;32m----> <a href='vscode-notebook-cell:/home/yasin/allProgram/Advance_Python/practise.ipynb#W6sZmlsZQ%3D%3D?line=0'>1</a>\u001b[0m tf\u001b[39m.\u001b[39;49mkeras\u001b[39m.\u001b[39;49mSequential()\n",
      "File \u001b[0;32m/usr/lib/python3.12/site-packages/tensorflow/python/util/lazy_loader.py:182\u001b[0m, in \u001b[0;36mKerasLazyLoader.__getattr__\u001b[0;34m(self, item)\u001b[0m\n\u001b[1;32m    180\u001b[0m \u001b[39mif\u001b[39;00m \u001b[39mnot\u001b[39;00m \u001b[39mself\u001b[39m\u001b[39m.\u001b[39m_tfll_initialized:\n\u001b[1;32m    181\u001b[0m   \u001b[39mself\u001b[39m\u001b[39m.\u001b[39m_initialize()\n\u001b[0;32m--> 182\u001b[0m \u001b[39mif\u001b[39;00m \u001b[39mself\u001b[39;49m\u001b[39m.\u001b[39;49m_tfll_keras_version \u001b[39m==\u001b[39m \u001b[39m\"\u001b[39m\u001b[39mkeras_3\u001b[39m\u001b[39m\"\u001b[39m:\n\u001b[1;32m    183\u001b[0m   \u001b[39mif\u001b[39;00m (\n\u001b[1;32m    184\u001b[0m       \u001b[39mself\u001b[39m\u001b[39m.\u001b[39m_tfll_mode \u001b[39m==\u001b[39m \u001b[39m\"\u001b[39m\u001b[39mv1\u001b[39m\u001b[39m\"\u001b[39m\n\u001b[1;32m    185\u001b[0m       \u001b[39mand\u001b[39;00m \u001b[39mnot\u001b[39;00m \u001b[39mself\u001b[39m\u001b[39m.\u001b[39m_tfll_submodule\n\u001b[1;32m    186\u001b[0m       \u001b[39mand\u001b[39;00m item\u001b[39m.\u001b[39mstartswith(\u001b[39m\"\u001b[39m\u001b[39mcompat.v1.\u001b[39m\u001b[39m\"\u001b[39m)\n\u001b[1;32m    187\u001b[0m   ):\n\u001b[1;32m    188\u001b[0m     \u001b[39mraise\u001b[39;00m \u001b[39mAttributeError\u001b[39;00m(\n\u001b[1;32m    189\u001b[0m         \u001b[39m\"\u001b[39m\u001b[39m`tf.compat.v1.keras` is not available with Keras 3. Keras 3 has \u001b[39m\u001b[39m\"\u001b[39m\n\u001b[1;32m    190\u001b[0m         \u001b[39m\"\u001b[39m\u001b[39mno support for TF 1 APIs. You can install the `tf_keras` package \u001b[39m\u001b[39m\"\u001b[39m\n\u001b[0;32m   (...)\u001b[0m\n\u001b[1;32m    193\u001b[0m         \u001b[39m\"\u001b[39m\u001b[39m`tf.compat.v1.keras` to `tf_keras`.\u001b[39m\u001b[39m\"\u001b[39m\n\u001b[1;32m    194\u001b[0m     )\n",
      "File \u001b[0;32m/usr/lib/python3.12/site-packages/tensorflow/python/util/lazy_loader.py:182\u001b[0m, in \u001b[0;36mKerasLazyLoader.__getattr__\u001b[0;34m(self, item)\u001b[0m\n\u001b[1;32m    180\u001b[0m \u001b[39mif\u001b[39;00m \u001b[39mnot\u001b[39;00m \u001b[39mself\u001b[39m\u001b[39m.\u001b[39m_tfll_initialized:\n\u001b[1;32m    181\u001b[0m   \u001b[39mself\u001b[39m\u001b[39m.\u001b[39m_initialize()\n\u001b[0;32m--> 182\u001b[0m \u001b[39mif\u001b[39;00m \u001b[39mself\u001b[39;49m\u001b[39m.\u001b[39;49m_tfll_keras_version \u001b[39m==\u001b[39m \u001b[39m\"\u001b[39m\u001b[39mkeras_3\u001b[39m\u001b[39m\"\u001b[39m:\n\u001b[1;32m    183\u001b[0m   \u001b[39mif\u001b[39;00m (\n\u001b[1;32m    184\u001b[0m       \u001b[39mself\u001b[39m\u001b[39m.\u001b[39m_tfll_mode \u001b[39m==\u001b[39m \u001b[39m\"\u001b[39m\u001b[39mv1\u001b[39m\u001b[39m\"\u001b[39m\n\u001b[1;32m    185\u001b[0m       \u001b[39mand\u001b[39;00m \u001b[39mnot\u001b[39;00m \u001b[39mself\u001b[39m\u001b[39m.\u001b[39m_tfll_submodule\n\u001b[1;32m    186\u001b[0m       \u001b[39mand\u001b[39;00m item\u001b[39m.\u001b[39mstartswith(\u001b[39m\"\u001b[39m\u001b[39mcompat.v1.\u001b[39m\u001b[39m\"\u001b[39m)\n\u001b[1;32m    187\u001b[0m   ):\n\u001b[1;32m    188\u001b[0m     \u001b[39mraise\u001b[39;00m \u001b[39mAttributeError\u001b[39;00m(\n\u001b[1;32m    189\u001b[0m         \u001b[39m\"\u001b[39m\u001b[39m`tf.compat.v1.keras` is not available with Keras 3. Keras 3 has \u001b[39m\u001b[39m\"\u001b[39m\n\u001b[1;32m    190\u001b[0m         \u001b[39m\"\u001b[39m\u001b[39mno support for TF 1 APIs. You can install the `tf_keras` package \u001b[39m\u001b[39m\"\u001b[39m\n\u001b[0;32m   (...)\u001b[0m\n\u001b[1;32m    193\u001b[0m         \u001b[39m\"\u001b[39m\u001b[39m`tf.compat.v1.keras` to `tf_keras`.\u001b[39m\u001b[39m\"\u001b[39m\n\u001b[1;32m    194\u001b[0m     )\n",
      "    \u001b[0;31m[... skipping similar frames: KerasLazyLoader.__getattr__ at line 182 (2974 times)]\u001b[0m\n",
      "File \u001b[0;32m/usr/lib/python3.12/site-packages/tensorflow/python/util/lazy_loader.py:182\u001b[0m, in \u001b[0;36mKerasLazyLoader.__getattr__\u001b[0;34m(self, item)\u001b[0m\n\u001b[1;32m    180\u001b[0m \u001b[39mif\u001b[39;00m \u001b[39mnot\u001b[39;00m \u001b[39mself\u001b[39m\u001b[39m.\u001b[39m_tfll_initialized:\n\u001b[1;32m    181\u001b[0m   \u001b[39mself\u001b[39m\u001b[39m.\u001b[39m_initialize()\n\u001b[0;32m--> 182\u001b[0m \u001b[39mif\u001b[39;00m \u001b[39mself\u001b[39;49m\u001b[39m.\u001b[39;49m_tfll_keras_version \u001b[39m==\u001b[39m \u001b[39m\"\u001b[39m\u001b[39mkeras_3\u001b[39m\u001b[39m\"\u001b[39m:\n\u001b[1;32m    183\u001b[0m   \u001b[39mif\u001b[39;00m (\n\u001b[1;32m    184\u001b[0m       \u001b[39mself\u001b[39m\u001b[39m.\u001b[39m_tfll_mode \u001b[39m==\u001b[39m \u001b[39m\"\u001b[39m\u001b[39mv1\u001b[39m\u001b[39m\"\u001b[39m\n\u001b[1;32m    185\u001b[0m       \u001b[39mand\u001b[39;00m \u001b[39mnot\u001b[39;00m \u001b[39mself\u001b[39m\u001b[39m.\u001b[39m_tfll_submodule\n\u001b[1;32m    186\u001b[0m       \u001b[39mand\u001b[39;00m item\u001b[39m.\u001b[39mstartswith(\u001b[39m\"\u001b[39m\u001b[39mcompat.v1.\u001b[39m\u001b[39m\"\u001b[39m)\n\u001b[1;32m    187\u001b[0m   ):\n\u001b[1;32m    188\u001b[0m     \u001b[39mraise\u001b[39;00m \u001b[39mAttributeError\u001b[39;00m(\n\u001b[1;32m    189\u001b[0m         \u001b[39m\"\u001b[39m\u001b[39m`tf.compat.v1.keras` is not available with Keras 3. Keras 3 has \u001b[39m\u001b[39m\"\u001b[39m\n\u001b[1;32m    190\u001b[0m         \u001b[39m\"\u001b[39m\u001b[39mno support for TF 1 APIs. You can install the `tf_keras` package \u001b[39m\u001b[39m\"\u001b[39m\n\u001b[0;32m   (...)\u001b[0m\n\u001b[1;32m    193\u001b[0m         \u001b[39m\"\u001b[39m\u001b[39m`tf.compat.v1.keras` to `tf_keras`.\u001b[39m\u001b[39m\"\u001b[39m\n\u001b[1;32m    194\u001b[0m     )\n",
      "\u001b[0;31mRecursionError\u001b[0m: maximum recursion depth exceeded"
     ]
    }
   ],
   "source": [
    "tf.keras.Sequential()"
   ]
  }
 ],
 "metadata": {
  "kernelspec": {
   "display_name": "Python 3",
   "language": "python",
   "name": "python3"
  },
  "language_info": {
   "codemirror_mode": {
    "name": "ipython",
    "version": 3
   },
   "file_extension": ".py",
   "mimetype": "text/x-python",
   "name": "python",
   "nbconvert_exporter": "python",
   "pygments_lexer": "ipython3",
   "version": "3.12.3"
  }
 },
 "nbformat": 4,
 "nbformat_minor": 2
}
