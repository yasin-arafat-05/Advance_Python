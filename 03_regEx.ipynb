{
 "cells": [
  {
   "cell_type": "markdown",
   "metadata": {},
   "source": [
    "<br>\n",
    "<br>\n",
    "\n",
    "## `A regular Expression is a special sequence of characters that uses a search pattern to find a strings or set of strings.`\n",
    "\n",
    "<br>\n",
    "<br>"
   ]
  },
  {
   "cell_type": "code",
   "execution_count": 1,
   "metadata": {},
   "outputs": [],
   "source": [
    "import re"
   ]
  },
  {
   "cell_type": "markdown",
   "metadata": {},
   "source": [
    "<br>\n",
    "<br>\n",
    "\n",
    "# Meta character in regEX:\n",
    "\n",
    "<br>\n",
    "<br>\n",
    "\n",
    "1. `.` : Matches any character except a newline.\n",
    "2. `^` : Matches the start of the string.\n",
    "3. `$` : Matches the end of the string or just before the newline at the end of the string.\n",
    "4. `*` : Matches 0 or more repetitions of the preceding regex.\n",
    "5. `+` : Matches 1 or more repetitions of the preceding regex.\n",
    "6. `?` : Matches 0 or 1 repetition of the preceding regex.\n",
    "7. `{}` : Matches exactly the specified number of repetitions.\n",
    "8. `[]` : Used to indicate a set of characters.\n",
    "9. `|` : Matches either the regex on the left or the regex on the right.\n",
    "10. `()` : Used for grouping and capturing.\n",
    "11. `\\` : Used to escape special characters or signals a special sequence.\n",
    "\n",
    "\n"
   ]
  },
  {
   "cell_type": "code",
   "execution_count": 2,
   "metadata": {},
   "outputs": [
    {
     "name": "stdout",
     "output_type": "stream",
     "text": [
      "r'.' : <re.Match object; span=(0, 1), match='a'>\n",
      "r'\\.' : <re.Match object; span=(6, 7), match='.'>\n",
      "<re.Match object; span=(2, 3), match='l'>\n"
     ]
    }
   ],
   "source": [
    "\n",
    "a = \"charlie chaplin coa and the chocolate factory\"\n",
    "b = \"ayushi.jain@gmail.com\"\n",
    "c = \"hello\"\n",
    "d = \"XYZ,YZ,XYZZ,XYYZ,XXZZY,ZYZ,\"\n",
    "\n",
    "# parameter(regEx,string)\n",
    "match = re.search(r\".\",b)\n",
    "print(\"r'.' : {}\".format(match))\n",
    "# it gives us a but we need to match '.' in this case we use `\\`\n",
    "# here span means starting and ending index.\n",
    "\n",
    "\n",
    "match = re.search(r\"\\.\",b)\n",
    "print(\"r'\\\\.' : {}\".format(match))\n",
    "\n",
    "\n",
    "match = re.search(r\"[l]\",c)\n",
    "print(match)"
   ]
  },
  {
   "cell_type": "markdown",
   "metadata": {},
   "source": [
    "<br>\n",
    "\n",
    "## use of `re.findall()`\n",
    "\n",
    "### 1. `[]` : Used to indicate a set of characters.\n",
    "\n",
    "<br>"
   ]
  },
  {
   "cell_type": "code",
   "execution_count": 3,
   "metadata": {},
   "outputs": [
    {
     "name": "stdout",
     "output_type": "stream",
     "text": [
      "['l', 'l']\n",
      "['a', 'y', 'u', 'a', 'a']\n"
     ]
    }
   ],
   "source": [
    "\n",
    "match = re.findall(r\"[l]\",c)\n",
    "print(match)\n",
    "\n",
    "match = re.findall(r\"[ayu]\",b)\n",
    "print(match)\n",
    "\n",
    "\n"
   ]
  },
  {
   "cell_type": "markdown",
   "metadata": {},
   "source": [
    "<br>\n",
    "<br>\n",
    "\n",
    "# 2. `^` : Matches the start of the string.\n",
    "\n",
    "<br>\n",
    "<br>"
   ]
  },
  {
   "cell_type": "code",
   "execution_count": 4,
   "metadata": {},
   "outputs": [
    {
     "name": "stdout",
     "output_type": "stream",
     "text": [
      "None\n",
      "None\n",
      "<re.Match object; span=(0, 1), match='a'>\n",
      "[]\n",
      "['a']\n"
     ]
    }
   ],
   "source": [
    "\n",
    "match = re.search(r\"^l\",c) # first word is not l\n",
    "print(match)\n",
    "\n",
    "match = re.search(r\"^l\",b) # first word is not l\n",
    "print(match)\n",
    "\n",
    "match = re.search(r\"^a\",b) # first word is not a\n",
    "print(match)\n",
    "\n",
    "match = re.findall(r\"^k\",b) # first word is not k\n",
    "print(match)\n",
    "\n",
    "match = re.findall(r\"^a\",b)\n",
    "print(match)\n",
    "\n",
    "\n"
   ]
  },
  {
   "cell_type": "markdown",
   "metadata": {},
   "source": [
    "<br>\n",
    "<br>\n",
    "\n",
    "\n",
    "# 3. `$` : Matches the end of the string or just before the newline at the end of the string.\n",
    "\n",
    "<br>\n",
    "<br>"
   ]
  },
  {
   "cell_type": "code",
   "execution_count": 5,
   "metadata": {},
   "outputs": [
    {
     "name": "stdout",
     "output_type": "stream",
     "text": [
      "<re.Match object; span=(18, 21), match='com'>\n",
      "<re.Match object; span=(3, 21), match='shi.jain@gmail.com'>\n",
      "None\n",
      "['com']\n",
      "['shi.jain@gmail.com']\n",
      "[]\n"
     ]
    }
   ],
   "source": [
    "match = re.search(r\"com$\",b)\n",
    "print(match)\n",
    "\n",
    "match = re.search(r\"shi.jain@gmail.com$\",b)\n",
    "print(match)\n",
    "\n",
    "match = re.search(r\"dkfshi.jain@gmail.com$\",b)\n",
    "print(match)\n",
    "\n",
    "match = re.findall(r\"com$\",b)\n",
    "print(match)\n",
    "\n",
    "match = re.findall(r\"shi.jain@gmail.com$\",b)\n",
    "print(match)\n",
    "\n",
    "match = re.findall(r\"dkfshi.jain@gmail.com$\",b)\n",
    "print(match)\n",
    "\n",
    "\n"
   ]
  },
  {
   "cell_type": "markdown",
   "metadata": {},
   "source": [
    "<br>\n",
    "<br>\n",
    "\n",
    "# 4. `.` : Matches any character except a newline.\n",
    "\n",
    "<br>\n",
    "<br>\n"
   ]
  },
  {
   "cell_type": "code",
   "execution_count": 6,
   "metadata": {},
   "outputs": [
    {
     "name": "stdout",
     "output_type": "stream",
     "text": [
      "<re.Match object; span=(0, 3), match='cha'>\n",
      "['cha', 'cha', 'coa']\n",
      "['chap']\n"
     ]
    }
   ],
   "source": [
    "# one dot\n",
    "match = re.search(r'c.a',a)\n",
    "print(match)\n",
    "\n",
    "match = re.findall(r'c.a',a)\n",
    "print(match)\n",
    "\n",
    "\n",
    "# two dot\n",
    "match = re.findall(r'c..p',a)\n",
    "print(match)\n"
   ]
  },
  {
   "cell_type": "markdown",
   "metadata": {},
   "source": [
    "<br>\n",
    "<br>\n",
    "\n",
    "# 5. `|` : Matches either the regex on the left or the regex on the right.\n",
    "\n",
    "<br>\n",
    "<br>\n"
   ]
  },
  {
   "cell_type": "code",
   "execution_count": 7,
   "metadata": {},
   "outputs": [
    {
     "name": "stdout",
     "output_type": "stream",
     "text": [
      "[' chap', ' coa ']\n",
      "['cha', 'cha', 'fac']\n",
      "['fac']\n"
     ]
    }
   ],
   "source": [
    "\n",
    "match = re.findall(r\" c.a | c..p\",a)\n",
    "print(match) \n",
    "\n",
    "match = re.findall(r\"cha|fac\",a)\n",
    "print(match) \n",
    "\n",
    "# match only the right side\n",
    "match = re.findall(r\"chomun|fac\",a)\n",
    "print(match) \n",
    "\n",
    "\n"
   ]
  },
  {
   "cell_type": "markdown",
   "metadata": {},
   "source": [
    "\n",
    "<br>\n",
    "<br>\n",
    "\n",
    "# 6. `?` : Matches 0 or 1 repetition of the preceding regex.\n",
    "\n",
    "<br>\n",
    "<br>"
   ]
  },
  {
   "cell_type": "code",
   "execution_count": 8,
   "metadata": {},
   "outputs": [
    {
     "name": "stdout",
     "output_type": "stream",
     "text": [
      "['cha', 'cha']\n",
      "['cha', 'cha']\n",
      "['cha', 'cha', 'cha']\n"
     ]
    }
   ],
   "source": [
    "match = re.findall(r\"cha?a\",a)\n",
    "print(match)\n",
    "\n",
    "match = re.findall(r\"cha?a\",a)\n",
    "print(match)\n",
    "\n",
    "\n",
    "m = \"cha chao chk cho cham chokk\"\n",
    "match = re.findall(r\"ch?a\",m)\n",
    "print(match)\n"
   ]
  },
  {
   "cell_type": "markdown",
   "metadata": {},
   "source": [
    "<br>\n",
    "<br>\n",
    "\n",
    "# 7. `*` : Matches 0 or more repetitions of the preceding regex.\n",
    "\n",
    "<br>\n",
    "<br>"
   ]
  },
  {
   "cell_type": "code",
   "execution_count": 9,
   "metadata": {},
   "outputs": [
    {
     "name": "stdout",
     "output_type": "stream",
     "text": [
      "['cha', 'chaaaa', 'ch', 'ch', 'cha', 'ch']\n"
     ]
    }
   ],
   "source": [
    "\n",
    "m = \"cha chaaaao chk cho cham chokk\"\n",
    "match = re.findall(r\"cha*\",m)\n",
    "print(match)\n"
   ]
  },
  {
   "cell_type": "markdown",
   "metadata": {},
   "source": [
    "<br>\n",
    "<br>\n",
    "\n",
    "# 8. `+` : Matches 1 or more repetitions of the preceding regex.\n",
    "\n",
    "<br>\n",
    "<br>"
   ]
  },
  {
   "cell_type": "code",
   "execution_count": 10,
   "metadata": {},
   "outputs": [
    {
     "name": "stdout",
     "output_type": "stream",
     "text": [
      "['XYZ', 'XYZ', 'XYYZ']\n",
      "['XYZ', 'XYZ', 'XYYZ', 'XYYYYYZ']\n"
     ]
    }
   ],
   "source": [
    "\n",
    "match = re.findall(r\"XY+Z\",d)\n",
    "print(match)\n",
    "\n",
    "m = \"XYZ,XYZ,XYYZ, XYYYYYK, XXXYYYYYZZZ\"\n",
    "match = re.findall(r\"XY+Z\",m)\n",
    "print(match)\n"
   ]
  },
  {
   "cell_type": "markdown",
   "metadata": {},
   "source": [
    "<br>\n",
    "<br>\n",
    "\n",
    "## 9. `{}` : Matches exactly the specified number of repetitions.\n",
    "<br>\n",
    "<br>"
   ]
  },
  {
   "cell_type": "code",
   "execution_count": 11,
   "metadata": {},
   "outputs": [
    {
     "name": "stdout",
     "output_type": "stream",
     "text": [
      "['aa', 'aaaaa', 'aaa', 'aaaaa']\n"
     ]
    }
   ],
   "source": [
    "\n",
    "#2B53K5,1 but our range (2 to 5)\n",
    "m = \"aaBbbbbbbbBBBBBaaaaaaaaKKaaaaaa\"\n",
    "match = re.findall(r\"a{2,5}\",m)\n",
    "print(match)\n"
   ]
  },
  {
   "cell_type": "markdown",
   "metadata": {},
   "source": [
    "<br>\n",
    "<br>\n",
    "\n",
    "# 10. `()` : Used for grouping and capturing.\n",
    "\n",
    "<br>\n",
    "<br>"
   ]
  },
  {
   "cell_type": "code",
   "execution_count": 12,
   "metadata": {},
   "outputs": [
    {
     "name": "stdout",
     "output_type": "stream",
     "text": [
      "['Y', 'Y', 'Y', 'Y', 'X', 'Y']\n"
     ]
    }
   ],
   "source": [
    "\n",
    "# d = \"XYZ,YZ,XYZZ,XYYZ,XXZZY,ZYZ,\"\n",
    "\n",
    "match = re.findall(r\"(X|Y)Z\",d)\n",
    "print(match)\n"
   ]
  },
  {
   "cell_type": "markdown",
   "metadata": {},
   "source": [
    "<br>\n",
    "<br>\n",
    "<br>\n",
    "\n",
    "# Special Sequences:\n",
    "\n",
    "| Character | Description                                                                                                        | Example       |\n",
    "|-----------|--------------------------------------------------------------------------------------------------------------------|---------------|\n",
    "| `\\A`      | Returns a match if the specified characters are at the beginning of the string                                      | `\\AThe`       |\n",
    "| `\\b`      | Returns a match where the specified characters are at the beginning or at the end of a word (use raw string `r\"\"`) | `r\"\\bain\"`    |\n",
    "|           |                                                                                                                    | `r\"ain\\b\"`    |\n",
    "| `\\B`      | Returns a match where the specified characters are present, but NOT at the beginning (or at the end) of a word     | `r\"\\Bain\"`    |\n",
    "|           |                                                                                                                    | `r\"ain\\B\"`    |\n",
    "| `\\d`      | Returns a match where the string contains digits (numbers from 0-9)                                                | `\\d`          |\n",
    "| `\\D`      | Returns a match where the string DOES NOT contain digits                                                           | `\\D`          |\n",
    "| `\\s`      | Returns a match where the string contains a white space character                                                  | `\\s`          |\n",
    "| `\\S`      | Returns a match where the string DOES NOT contain a white space character                                          | `\\S`          |\n",
    "| `\\w`      | Returns a match where the string contains any word characters (a to Z, digits 0-9, and the underscore `_` )        | `\\w`          |\n",
    "| `\\W`      | Returns a match where the string DOES NOT contain any word characters                                              | `\\W`          |\n",
    "| `\\Z`      | Returns a match if the specified characters are at the end of the string                                           | `Spain\\Z`     |\n",
    "\n",
    "<br>\n",
    "<br>\n",
    "<br>"
   ]
  },
  {
   "cell_type": "markdown",
   "metadata": {},
   "source": [
    "<br>\n",
    "\n",
    "# 1. `\\A` Returns a match if the specified characters are at the beginning of the string          \n",
    "\n",
    "<br>"
   ]
  },
  {
   "cell_type": "code",
   "execution_count": 13,
   "metadata": {},
   "outputs": [
    {
     "name": "stdout",
     "output_type": "stream",
     "text": [
      "<re.Match object; span=(0, 6), match='harray'>\n",
      "['harr']\n",
      "<re.Match object; span=(0, 10), match='harray por'>\n",
      "None\n",
      "[]\n"
     ]
    }
   ],
   "source": [
    "a = \"harray porter\"\n",
    "\n",
    "match = re.search(r\"\\Aharray\",a)\n",
    "print(match)\n",
    "\n",
    "match = re.findall(r\"\\Aharr\",a)\n",
    "print(match)\n",
    "\n",
    "\n",
    "match = re.search(r\"\\Aharray por\",a)\n",
    "print(match)\n",
    "\n",
    "match = re.search(r\"\\Adlkfj\",a)\n",
    "print(match)\n",
    "\n",
    "match = re.findall(r\"\\Aharray portk\",a)\n",
    "print(match)\n",
    "\n"
   ]
  },
  {
   "cell_type": "markdown",
   "metadata": {},
   "source": [
    "<br>\n",
    "<br>\n",
    "\n",
    "# 2. `\\b` Returns a match where the specified characters are at the beginning or at the end of a word (use raw string `r\"\"`)\n",
    "\n",
    "<br>\n",
    "<br>"
   ]
  },
  {
   "cell_type": "code",
   "execution_count": 14,
   "metadata": {},
   "outputs": [
    {
     "name": "stdout",
     "output_type": "stream",
     "text": [
      "[]\n",
      "['ha', 'ha']\n",
      "[]\n",
      "<re.Match object; span=(4, 6), match='ay'>\n",
      "['ay', 'ay']\n"
     ]
    }
   ],
   "source": [
    "\n",
    "a = \"harray porter harray\"\n",
    "\n",
    "#---------beginning----------\n",
    "match = re.findall(r\"\\bay\",a)\n",
    "print(match)\n",
    "\n",
    "match = re.findall(r\"\\bha\",a)\n",
    "print(match)\n",
    "\n",
    "match = re.findall(r\"ay\\a\",a)\n",
    "print(match)\n",
    "\n",
    "#---------ending-------------\n",
    "match = re.search(r\"ay\\b\",a)\n",
    "print(match)\n",
    "\n",
    "match = re.findall(r\"ay\\b\",a)\n",
    "print(match)\n",
    "\n"
   ]
  },
  {
   "cell_type": "markdown",
   "metadata": {},
   "source": [
    "<br>\n",
    "<br>\n",
    "\n",
    "# 3. `\\B` Returns a match where the specified characters are present, but NOT at the beginning (or at the end) of a word\n",
    "\n",
    "<br>\n",
    "<br>"
   ]
  },
  {
   "cell_type": "code",
   "execution_count": 15,
   "metadata": {},
   "outputs": [
    {
     "name": "stdout",
     "output_type": "stream",
     "text": [
      "['arra', 'arra']\n",
      "<re.Match object; span=(10, 12), match='te'>\n",
      "['or']\n"
     ]
    }
   ],
   "source": [
    "\n",
    "\n",
    "a = \"harray porter harray\"\n",
    "\n",
    "match = re.findall(r\"\\Barra\",a)\n",
    "print(match)\n",
    "\n",
    "# match middle words from at the end\n",
    "match = re.search(r\"te\\B\",a)\n",
    "print(match)\n",
    "\n",
    "# match middle word \n",
    "match = re.findall(r\"\\Bor\",a)\n",
    "print(match)\n",
    "\n"
   ]
  },
  {
   "cell_type": "markdown",
   "metadata": {},
   "source": [
    "<br>\n",
    "<br>\n",
    "\n",
    "# 4. `\\d`  Returns a match where the string contains digits (numbers from 0-9) .   \n",
    "\n",
    "<br>"
   ]
  },
  {
   "cell_type": "code",
   "execution_count": 16,
   "metadata": {},
   "outputs": [
    {
     "name": "stdout",
     "output_type": "stream",
     "text": [
      "['2', '1', '0', '2', '0', '3', '0', '9', '9', '3']\n",
      "['21', '02', '03', '99']\n"
     ]
    }
   ],
   "source": [
    "\n",
    "a = \"yasin2102030k993\"\n",
    "\n",
    "match = re.findall(r\"\\d\",a)\n",
    "print(match)\n",
    "\n",
    "match = re.findall(r\"\\d{2}\",a)\n",
    "print(match)\n"
   ]
  },
  {
   "cell_type": "markdown",
   "metadata": {},
   "source": [
    "<br>\n",
    "<br>\n",
    "\n",
    "# 5. `\\D`  Returns a match where the string DOES NOT contain digits.\n",
    "\n",
    "<br>"
   ]
  },
  {
   "cell_type": "code",
   "execution_count": 17,
   "metadata": {},
   "outputs": [
    {
     "name": "stdout",
     "output_type": "stream",
     "text": [
      "['y', 'a', 's', 'i', 'n', 'k', ' ', 'K', 'A', 'L', 'U']\n",
      "['yasin', ' KALU']\n"
     ]
    }
   ],
   "source": [
    "\n",
    "a = \"yasin2102030k993 KALU\"\n",
    "\n",
    "match = re.findall(r\"\\D\",a)\n",
    "print(match)\n",
    "\n",
    "match = re.findall(r\"\\D{5}\",a)\n",
    "print(match)\n"
   ]
  },
  {
   "cell_type": "markdown",
   "metadata": {},
   "source": [
    "<br>\n",
    "<br>\n",
    "\n",
    "# 6. `\\s` Returns a match where the string contains a white space character .   \n",
    "\n",
    "<br>"
   ]
  },
  {
   "cell_type": "code",
   "execution_count": 18,
   "metadata": {},
   "outputs": [
    {
     "name": "stdout",
     "output_type": "stream",
     "text": [
      "[' ', ' ', ' ', ' ']\n"
     ]
    }
   ],
   "source": [
    "\n",
    "a = \"My name is Yasin Arafat.\"\n",
    "match = re.findall(r\"\\s\",a)\n",
    "print(match)\n",
    "\n"
   ]
  },
  {
   "cell_type": "markdown",
   "metadata": {},
   "source": [
    "<br>\n",
    "<br>\n",
    "\n",
    "# 7. `\\S`  Returns a match where the string DOES NOT contain a white space character\n",
    "\n",
    "<br>"
   ]
  },
  {
   "cell_type": "code",
   "execution_count": 19,
   "metadata": {},
   "outputs": [
    {
     "name": "stdout",
     "output_type": "stream",
     "text": [
      "['M', 'y', 'n', 'a', 'm', 'e', 'i', 's', 'Y', 'a', 's', 'i', 'n', 'A', 'r', 'a', 'f', 'a', 't', '.']\n"
     ]
    }
   ],
   "source": [
    "\n",
    "a = \"My name is Yasin Arafat.\"\n",
    "match = re.findall(r\"\\S\",a)\n",
    "print(match)\n",
    "\n"
   ]
  },
  {
   "cell_type": "markdown",
   "metadata": {},
   "source": [
    "<br>\n",
    "<br>\n",
    "\n",
    "# 8. `\\w` Returns a match where the string contains any word characters (a to Z, digits 0-9, and the underscore `_` \n",
    "\n",
    "<br>"
   ]
  },
  {
   "cell_type": "code",
   "execution_count": 20,
   "metadata": {},
   "outputs": [
    {
     "name": "stdout",
     "output_type": "stream",
     "text": [
      "['M', 'y', 'n', 'a', 'm', 'e', 'i', 's', 'Y', 'a', 's', 'i', 'n', '_', 'A', 'r', 'a', 'f', 'a', 't']\n"
     ]
    }
   ],
   "source": [
    "\n",
    "a = \"My name is Yasin_Arafat !@#$%^&*().\"\n",
    "match = re.findall(r\"\\w\",a)\n",
    "print(match)\n",
    "\n"
   ]
  },
  {
   "cell_type": "markdown",
   "metadata": {},
   "source": [
    "<br>\n",
    "<br>\n",
    "\n",
    "# 9. `\\W`  Returns a match where the string DOES NOT contain any word characters\n",
    "\n",
    "<br>"
   ]
  },
  {
   "cell_type": "code",
   "execution_count": 21,
   "metadata": {},
   "outputs": [
    {
     "name": "stdout",
     "output_type": "stream",
     "text": [
      "[' ', ' ', ' ', ' ', '!', '@', '#', '$', '%', '^', '&', '*', '(', ')', '.']\n"
     ]
    }
   ],
   "source": [
    "\n",
    "a = \"My name is Yasin_Arafat !@#$%^&*().\"\n",
    "match = re.findall(r\"\\W\",a)\n",
    "print(match)\n",
    "\n"
   ]
  },
  {
   "cell_type": "markdown",
   "metadata": {},
   "source": [
    "<br>\n",
    "<br>\n",
    "\n",
    "# 10. `\\Z`  Returns a match if the specified characters are at the end of the string \n",
    "\n",
    "<br>"
   ]
  },
  {
   "cell_type": "code",
   "execution_count": 22,
   "metadata": {},
   "outputs": [
    {
     "name": "stdout",
     "output_type": "stream",
     "text": [
      "['']\n",
      "['.']\n"
     ]
    }
   ],
   "source": [
    "\n",
    "a = \"My name is Yasin_Arafat !@#$%^&*().\"\n",
    "\n",
    "match = re.findall(r\"().\\Z\",a)\n",
    "print(match)\n",
    "\n",
    "match = re.findall(r\".\\Z\",a)\n",
    "print(match)\n"
   ]
  },
  {
   "cell_type": "markdown",
   "metadata": {},
   "source": [
    "<br>\n",
    "<br>\n",
    "\n",
    "# Set In regEx:\n",
    "\n",
    "| Set          | Description                                                                                        | Example |\n",
    "|--------------|----------------------------------------------------------------------------------------------------|---------|\n",
    "| `[arn]`      | Returns a match where one of the specified characters (a, r, or n) is present                      |         |\n",
    "| `[a-n]`      | Returns a match for any lower case character, alphabetically between a and n                       |         |\n",
    "| `[^arn]`     | Returns a match for any character EXCEPT a, r, and n                                               |         |\n",
    "| `[0123]`     | Returns a match where any of the specified digits (0, 1, 2, or 3) are present                      |         |\n",
    "| `[0-9]`      | Returns a match for any digit between 0 and 9                                                      |         |\n",
    "| `[0-5][0-9]` | Returns a match for any two-digit numbers from 00 to 59                                            |         |\n",
    "| `[a-zA-Z]`   | Returns a match for any character alphabetically between a and z, lower case OR upper case         |         |\n",
    "| `[+]`        | In sets, +, *, ., |, (), $, {} has no special meaning, so `[+]` means: return a match for any `+` character in the string |         |\n"
   ]
  },
  {
   "cell_type": "markdown",
   "metadata": {},
   "source": [
    "<br>\n",
    "<br>\n",
    "\n",
    "# 1. `[arn]` Returns a match where one of the specified characters (a, r, or n) is present  \n",
    "\n",
    "<br>"
   ]
  },
  {
   "cell_type": "code",
   "execution_count": 23,
   "metadata": {},
   "outputs": [
    {
     "name": "stdout",
     "output_type": "stream",
     "text": [
      "['c', 'a', 'c', 'a', 'c', 'a', 'a', 'c', 'c', 'a', 'f', 'a', 'c']\n",
      "[]\n"
     ]
    }
   ],
   "source": [
    "\n",
    "a = \"charlie chaplin coa and the chocolate factory\"\n",
    "\n",
    "match = re.findall(r\"[fac]\",a)\n",
    "print(match)\n",
    "\n",
    "match = re.findall(r\"[k]\",a)\n",
    "print(match)\n"
   ]
  },
  {
   "cell_type": "markdown",
   "metadata": {},
   "source": [
    "<br>\n",
    "<br>\n",
    "\n",
    "# 2. `[a-n]`  Returns a match for any lower case character, alphabetically between a and n    \n",
    "\n",
    "<br>"
   ]
  },
  {
   "cell_type": "code",
   "execution_count": 24,
   "metadata": {},
   "outputs": [
    {
     "name": "stdout",
     "output_type": "stream",
     "text": [
      "['c', 'a', 'c', 'a', 'c', 'a', 'a', 'd', 'c', 'c', 'a', 'a', 'c']\n",
      "['n', 'n']\n"
     ]
    }
   ],
   "source": [
    "\n",
    "a = \"charlie chaplin coa and the chocolate factory\"\n",
    "\n",
    "match = re.findall(r\"[a-d]\",a)\n",
    "print(match)\n",
    "\n",
    "match = re.findall(r\"[m-n]\",a)\n",
    "print(match)"
   ]
  },
  {
   "cell_type": "markdown",
   "metadata": {},
   "source": [
    "<br>\n",
    "<br>\n",
    "\n",
    "# 3. `[^arn]`  Returns a match for any character EXCEPT a, r, and n          \n",
    "\n",
    "<br>"
   ]
  },
  {
   "cell_type": "code",
   "execution_count": 25,
   "metadata": {},
   "outputs": [
    {
     "name": "stdout",
     "output_type": "stream",
     "text": [
      "['d', 'd', 'd', 'd', 'd', 'd', 'd', ' ', 'k', 'k', 'k', ' ', 'l', 'l', 'l']\n"
     ]
    }
   ],
   "source": [
    "a = \"aaaaaabbbbbcccccddddddd kkk lll\"\n",
    "\n",
    "match = re.findall(r\"[^abc]\",a)\n",
    "print(match)"
   ]
  },
  {
   "cell_type": "markdown",
   "metadata": {},
   "source": [
    "<br>\n",
    "<br>\n",
    "\n",
    "# 4. `[0123]` Returns a match where any of the specified digits (0, 1, 2, or 3) are present        \n",
    "<br>"
   ]
  },
  {
   "cell_type": "code",
   "execution_count": 26,
   "metadata": {},
   "outputs": [
    {
     "name": "stdout",
     "output_type": "stream",
     "text": [
      "['3', '3', '2', '1', '2', '3', '3', '2', '2', '3']\n"
     ]
    }
   ],
   "source": [
    "a = \"34324123432423\"\n",
    "\n",
    "match = re.findall(r\"[0123]\",a)\n",
    "print(match)"
   ]
  },
  {
   "cell_type": "markdown",
   "metadata": {},
   "source": [
    "<br>\n",
    "<br>\n",
    "\n",
    "# 5. `[0-9]` Returns a match for any digit between 0 and 9                 \n",
    "\n",
    "<br>"
   ]
  },
  {
   "cell_type": "code",
   "execution_count": 27,
   "metadata": {},
   "outputs": [
    {
     "name": "stdout",
     "output_type": "stream",
     "text": [
      "['4', '5', '5', '0', '0']\n"
     ]
    }
   ],
   "source": [
    "a = \"45dfjkl56dflj78kk80ll90mm99\"\n",
    "match = re.findall(\"[0-5]\",a)\n",
    "print(match)"
   ]
  },
  {
   "cell_type": "markdown",
   "metadata": {},
   "source": [
    "<br>\n",
    "<br>\n",
    "\n",
    "# 6. `[0-5][0-9]` Returns a match for any two-digit numbers from 00 to 59                                 \n",
    "<br>"
   ]
  },
  {
   "cell_type": "code",
   "execution_count": 28,
   "metadata": {},
   "outputs": [
    {
     "name": "stdout",
     "output_type": "stream",
     "text": [
      "['45', '56']\n"
     ]
    }
   ],
   "source": [
    "a = \"45dfjkl56dflj78kk80ll90mm99\"\n",
    "match = re.findall(\"[0-5][0-9]\",a)\n",
    "print(match)"
   ]
  },
  {
   "cell_type": "markdown",
   "metadata": {},
   "source": [
    "<br>\n",
    "<br>\n",
    "\n",
    "# 7. `[a-zA-Z]`  Returns a match for any character alphabetically between a and z, lower case OR upper case       \n",
    "\n",
    "<br>"
   ]
  },
  {
   "cell_type": "code",
   "execution_count": 29,
   "metadata": {},
   "outputs": [
    {
     "name": "stdout",
     "output_type": "stream",
     "text": [
      "['A', 'B', 'a', 'b']\n"
     ]
    }
   ],
   "source": [
    "\n",
    "a = \"ABCabc\"\n",
    "match = re.findall(\"[A-Ba-b]\",a)\n",
    "print(match)"
   ]
  },
  {
   "cell_type": "markdown",
   "metadata": {},
   "source": [
    "<br>\n",
    "<br>\n",
    "\n",
    "# 8. `[+]`   In sets, +, *, ., |, (), $, {} has no special meaning, so `[+]` means: return a match for any `+` character in the string \n",
    "\n",
    "<br>"
   ]
  },
  {
   "cell_type": "code",
   "execution_count": 34,
   "metadata": {},
   "outputs": [
    {
     "name": "stdout",
     "output_type": "stream",
     "text": [
      "['(', ')', '_', '+', '_']\n",
      "['_', '_']\n",
      "['$']\n"
     ]
    }
   ],
   "source": [
    "a = \"!@#$%^&*()_+_\"\n",
    "\n",
    "match = re.findall(r\"[+_()]\",a)\n",
    "print(match)\n",
    "\n",
    "match = re.findall(r\"[_]\",a)\n",
    "print(match)\n",
    "\n",
    "match = re.findall(r\"[$]\",a)\n",
    "print(match)\n"
   ]
  }
 ],
 "metadata": {
  "kernelspec": {
   "display_name": "Python 3",
   "language": "python",
   "name": "python3"
  },
  "language_info": {
   "codemirror_mode": {
    "name": "ipython",
    "version": 3
   },
   "file_extension": ".py",
   "mimetype": "text/x-python",
   "name": "python",
   "nbconvert_exporter": "python",
   "pygments_lexer": "ipython3",
   "version": "3.12.3"
  }
 },
 "nbformat": 4,
 "nbformat_minor": 2
}
