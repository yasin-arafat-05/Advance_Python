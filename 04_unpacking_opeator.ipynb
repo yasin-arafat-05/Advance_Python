{
 "cells": [
  {
   "cell_type": "markdown",
   "id": "c43d361d",
   "metadata": {},
   "source": [
    "<br>\n",
    "<br>\n",
    "\n",
    "# 1. single * in python: \n",
    "\n",
    "<br>\n",
    "<br>"
   ]
  },
  {
   "cell_type": "code",
   "execution_count": 4,
   "id": "0e3b8b83",
   "metadata": {},
   "outputs": [
    {
     "name": "stdout",
     "output_type": "stream",
     "text": [
      "[1, 2, 3]\n"
     ]
    }
   ],
   "source": [
    "\n",
    "values = [1,2,3]\n",
    "print(values)"
   ]
  },
  {
   "cell_type": "code",
   "execution_count": null,
   "id": "64884740",
   "metadata": {},
   "outputs": [
    {
     "name": "stdout",
     "output_type": "stream",
     "text": [
      "1 2 3\n",
      "1 2 3\n",
      "1 2 3 "
     ]
    }
   ],
   "source": [
    "\n",
    "# 1. Unpack Operator(*) in python:\n",
    "print(1,2,3)\n",
    "print(*values)\n",
    "for i in values:\n",
    "    print(i,end=\" \")\n",
    "    "
   ]
  },
  {
   "cell_type": "code",
   "execution_count": null,
   "id": "169b56ca",
   "metadata": {},
   "outputs": [
    {
     "name": "stdout",
     "output_type": "stream",
     "text": [
      "6\n"
     ]
    }
   ],
   "source": [
    "\n",
    "# 2. unpack Operator in function:\n",
    "def sum_function(a,b,c):\n",
    "    return a+b+c\n",
    "print(sum_function(*values))\n"
   ]
  },
  {
   "cell_type": "code",
   "execution_count": null,
   "id": "d030107e",
   "metadata": {},
   "outputs": [
    {
     "name": "stdout",
     "output_type": "stream",
     "text": [
      "v1:  1\n",
      "v2:  [2, 3, 4, 5]\n",
      "v3:  6\n"
     ]
    }
   ],
   "source": [
    "\n",
    "# 3. store multiple value with unpack operator:\n",
    "values = [1,2,3,4,5,6]\n",
    "v1,*v2,v3 = values\n",
    "print(\"v1: \",v1)\n",
    "print(\"v2: \",v2)\n",
    "print(\"v3: \",v3)\n"
   ]
  },
  {
   "cell_type": "code",
   "execution_count": 13,
   "id": "f64a6718",
   "metadata": {},
   "outputs": [
    {
     "name": "stdout",
     "output_type": "stream",
     "text": [
      "[1, 2, 3, 'test', 4, 5, 6]\n",
      "[[1, 2, 3], 'test_data', [4, 5, 6]]\n"
     ]
    }
   ],
   "source": [
    "\n",
    "# 4. unpack operation with list:\n",
    "list1 = [1,2,3]\n",
    "list2 = [4,5,6]\n",
    "combine = [*list1, 'test', *list2]\n",
    "print(combine)\n",
    "print([list1,\"test_data\",list2])\n"
   ]
  },
  {
   "cell_type": "code",
   "execution_count": 17,
   "id": "980b04fc",
   "metadata": {},
   "outputs": [
    {
     "data": {
      "text/plain": [
       "55"
      ]
     },
     "execution_count": 17,
     "metadata": {},
     "output_type": "execute_result"
    }
   ],
   "source": [
    "\n",
    "\n",
    "# 5. *args in python:(we can give as much we parameter as we want)\n",
    "def my_sum(*args):\n",
    "    sum  = 0\n",
    "    for i in args:\n",
    "        sum +=i\n",
    "    return sum \n",
    "\n",
    "my_sum(1,2,3,4,5,6,7,8,9,10)"
   ]
  },
  {
   "cell_type": "markdown",
   "id": "31c87767",
   "metadata": {},
   "source": [
    "\n",
    "<br>\n",
    "<br>\n",
    "\n",
    "# 2. Double ** in python:\n",
    "\n",
    "<br>\n",
    "<br>"
   ]
  },
  {
   "cell_type": "code",
   "execution_count": 21,
   "id": "e68a1f86",
   "metadata": {},
   "outputs": [
    {
     "name": "stdout",
     "output_type": "stream",
     "text": [
      "My name is Yasin. My age is 30 and i do Programmer.\n"
     ]
    }
   ],
   "source": [
    "\n",
    "\n",
    "# double ** in python: (it will unpack two value):\n",
    "def my_dict(name,age,job):\n",
    "    print(f\"My name is {name}. My age is {age} and i do {job}.\")\n",
    "    \n",
    "input = {\"name\":\"Yasin\",\"age\":30,\"job\":\"Programmer\"}\n",
    "my_dict(**input)"
   ]
  },
  {
   "cell_type": "code",
   "execution_count": 22,
   "id": "c26eca6e",
   "metadata": {},
   "outputs": [
    {
     "name": "stdout",
     "output_type": "stream",
     "text": [
      "{'name': 'Yasin', 'age': 30, 'job': 'Programmer', 'age1': 30, 'status': 'unmarried'}\n"
     ]
    }
   ],
   "source": [
    "\n",
    "input1 = {\"status\":\"unmarried\"}\n",
    "combine = {**input,\"age1\":30 ,**input1}\n",
    "print(combine)"
   ]
  },
  {
   "cell_type": "code",
   "execution_count": 24,
   "id": "e177b113",
   "metadata": {},
   "outputs": [
    {
     "name": "stdout",
     "output_type": "stream",
     "text": [
      "name ------- yasin\n",
      "role ------- Programmer\n",
      "slary ------- 1 Billion USD\n"
     ]
    }
   ],
   "source": [
    "\n",
    "def my_function(**kwargs):\n",
    "    for k,v in kwargs.items():\n",
    "        print(f\"{k} ------- {v}\")\n",
    "        \n",
    "my_function(name=\"yasin\",role=\"Programmer\",slary = \"1 Billion USD\")"
   ]
  }
 ],
 "metadata": {
  "kernelspec": {
   "display_name": "venv",
   "language": "python",
   "name": "python3"
  },
  "language_info": {
   "codemirror_mode": {
    "name": "ipython",
    "version": 3
   },
   "file_extension": ".py",
   "mimetype": "text/x-python",
   "name": "python",
   "nbconvert_exporter": "python",
   "pygments_lexer": "ipython3",
   "version": "3.12.10"
  }
 },
 "nbformat": 4,
 "nbformat_minor": 5
}
